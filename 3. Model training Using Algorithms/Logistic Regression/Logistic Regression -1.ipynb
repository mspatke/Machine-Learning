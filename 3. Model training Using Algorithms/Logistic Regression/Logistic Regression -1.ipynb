{
 "cells": [
  {
   "cell_type": "code",
   "execution_count": 1,
   "metadata": {},
   "outputs": [],
   "source": [
    "import pandas as pd\n",
    "import numpy as np\n",
    "import matplotlib as plt\n",
    "%matplotlib inline"
   ]
  },
  {
   "cell_type": "code",
   "execution_count": 2,
   "metadata": {},
   "outputs": [],
   "source": [
    "data=pd.read_csv(\"trndata.csv\")"
   ]
  },
  {
   "cell_type": "code",
   "execution_count": 3,
   "metadata": {},
   "outputs": [
    {
     "data": {
      "text/html": [
       "<div>\n",
       "<style scoped>\n",
       "    .dataframe tbody tr th:only-of-type {\n",
       "        vertical-align: middle;\n",
       "    }\n",
       "\n",
       "    .dataframe tbody tr th {\n",
       "        vertical-align: top;\n",
       "    }\n",
       "\n",
       "    .dataframe thead th {\n",
       "        text-align: right;\n",
       "    }\n",
       "</style>\n",
       "<table border=\"1\" class=\"dataframe\">\n",
       "  <thead>\n",
       "    <tr style=\"text-align: right;\">\n",
       "      <th></th>\n",
       "      <th>F1</th>\n",
       "      <th>F2</th>\n",
       "      <th>F3</th>\n",
       "      <th>F4</th>\n",
       "      <th>F5</th>\n",
       "      <th>F6</th>\n",
       "      <th>F7</th>\n",
       "      <th>F8</th>\n",
       "      <th>F9</th>\n",
       "      <th>F10</th>\n",
       "      <th>F11</th>\n",
       "      <th>F12</th>\n",
       "      <th>L</th>\n",
       "    </tr>\n",
       "  </thead>\n",
       "  <tbody>\n",
       "    <tr>\n",
       "      <th>0</th>\n",
       "      <td>0.3315</td>\n",
       "      <td>0.2156</td>\n",
       "      <td>0.6802</td>\n",
       "      <td>0.1434</td>\n",
       "      <td>0.6825</td>\n",
       "      <td>0.2720</td>\n",
       "      <td>0.6223</td>\n",
       "      <td>0.2092</td>\n",
       "      <td>0.7961</td>\n",
       "      <td>0.1530</td>\n",
       "      <td>0.5856</td>\n",
       "      <td>0.2573</td>\n",
       "      <td>1</td>\n",
       "    </tr>\n",
       "    <tr>\n",
       "      <th>1</th>\n",
       "      <td>0.0939</td>\n",
       "      <td>1.0089</td>\n",
       "      <td>0.0365</td>\n",
       "      <td>0.6944</td>\n",
       "      <td>0.0908</td>\n",
       "      <td>0.4961</td>\n",
       "      <td>0.0722</td>\n",
       "      <td>0.6521</td>\n",
       "      <td>-0.0130</td>\n",
       "      <td>0.6085</td>\n",
       "      <td>0.0631</td>\n",
       "      <td>0.6597</td>\n",
       "      <td>2</td>\n",
       "    </tr>\n",
       "    <tr>\n",
       "      <th>2</th>\n",
       "      <td>0.5184</td>\n",
       "      <td>0.2283</td>\n",
       "      <td>0.5300</td>\n",
       "      <td>0.6884</td>\n",
       "      <td>0.7456</td>\n",
       "      <td>0.6171</td>\n",
       "      <td>0.6136</td>\n",
       "      <td>0.5928</td>\n",
       "      <td>0.7678</td>\n",
       "      <td>0.6130</td>\n",
       "      <td>0.6705</td>\n",
       "      <td>0.5202</td>\n",
       "      <td>1</td>\n",
       "    </tr>\n",
       "    <tr>\n",
       "      <th>3</th>\n",
       "      <td>0.4208</td>\n",
       "      <td>0.6740</td>\n",
       "      <td>0.1651</td>\n",
       "      <td>0.7592</td>\n",
       "      <td>0.1810</td>\n",
       "      <td>0.5448</td>\n",
       "      <td>0.1707</td>\n",
       "      <td>0.7554</td>\n",
       "      <td>0.1635</td>\n",
       "      <td>0.5492</td>\n",
       "      <td>0.2598</td>\n",
       "      <td>0.6455</td>\n",
       "      <td>2</td>\n",
       "    </tr>\n",
       "    <tr>\n",
       "      <th>4</th>\n",
       "      <td>0.3130</td>\n",
       "      <td>0.6465</td>\n",
       "      <td>0.5908</td>\n",
       "      <td>0.6924</td>\n",
       "      <td>0.7664</td>\n",
       "      <td>0.6262</td>\n",
       "      <td>1.7177</td>\n",
       "      <td>0.0150</td>\n",
       "      <td>0.0851</td>\n",
       "      <td>1.9046</td>\n",
       "      <td>-0.0165</td>\n",
       "      <td>0.0221</td>\n",
       "      <td>3</td>\n",
       "    </tr>\n",
       "  </tbody>\n",
       "</table>\n",
       "</div>"
      ],
      "text/plain": [
       "       F1      F2      F3      F4      F5      F6      F7      F8      F9  \\\n",
       "0  0.3315  0.2156  0.6802  0.1434  0.6825  0.2720  0.6223  0.2092  0.7961   \n",
       "1  0.0939  1.0089  0.0365  0.6944  0.0908  0.4961  0.0722  0.6521 -0.0130   \n",
       "2  0.5184  0.2283  0.5300  0.6884  0.7456  0.6171  0.6136  0.5928  0.7678   \n",
       "3  0.4208  0.6740  0.1651  0.7592  0.1810  0.5448  0.1707  0.7554  0.1635   \n",
       "4  0.3130  0.6465  0.5908  0.6924  0.7664  0.6262  1.7177  0.0150  0.0851   \n",
       "\n",
       "      F10     F11     F12  L  \n",
       "0  0.1530  0.5856  0.2573  1  \n",
       "1  0.6085  0.0631  0.6597  2  \n",
       "2  0.6130  0.6705  0.5202  1  \n",
       "3  0.5492  0.2598  0.6455  2  \n",
       "4  1.9046 -0.0165  0.0221  3  "
      ]
     },
     "execution_count": 3,
     "metadata": {},
     "output_type": "execute_result"
    }
   ],
   "source": [
    "data.head()"
   ]
  },
  {
   "cell_type": "code",
   "execution_count": 4,
   "metadata": {},
   "outputs": [],
   "source": [
    "df=data[(data['L']==1)|(data['L']==2)]"
   ]
  },
  {
   "cell_type": "code",
   "execution_count": 5,
   "metadata": {},
   "outputs": [
    {
     "data": {
      "text/html": [
       "<div>\n",
       "<style scoped>\n",
       "    .dataframe tbody tr th:only-of-type {\n",
       "        vertical-align: middle;\n",
       "    }\n",
       "\n",
       "    .dataframe tbody tr th {\n",
       "        vertical-align: top;\n",
       "    }\n",
       "\n",
       "    .dataframe thead th {\n",
       "        text-align: right;\n",
       "    }\n",
       "</style>\n",
       "<table border=\"1\" class=\"dataframe\">\n",
       "  <thead>\n",
       "    <tr style=\"text-align: right;\">\n",
       "      <th></th>\n",
       "      <th>F1</th>\n",
       "      <th>F2</th>\n",
       "      <th>F3</th>\n",
       "      <th>F4</th>\n",
       "      <th>F5</th>\n",
       "      <th>F6</th>\n",
       "      <th>F7</th>\n",
       "      <th>F8</th>\n",
       "      <th>F9</th>\n",
       "      <th>F10</th>\n",
       "      <th>F11</th>\n",
       "      <th>F12</th>\n",
       "      <th>L</th>\n",
       "    </tr>\n",
       "  </thead>\n",
       "  <tbody>\n",
       "    <tr>\n",
       "      <th>0</th>\n",
       "      <td>0.3315</td>\n",
       "      <td>0.2156</td>\n",
       "      <td>0.6802</td>\n",
       "      <td>0.1434</td>\n",
       "      <td>0.6825</td>\n",
       "      <td>0.2720</td>\n",
       "      <td>0.6223</td>\n",
       "      <td>0.2092</td>\n",
       "      <td>0.7961</td>\n",
       "      <td>0.1530</td>\n",
       "      <td>0.5856</td>\n",
       "      <td>0.2573</td>\n",
       "      <td>1</td>\n",
       "    </tr>\n",
       "    <tr>\n",
       "      <th>1</th>\n",
       "      <td>0.0939</td>\n",
       "      <td>1.0089</td>\n",
       "      <td>0.0365</td>\n",
       "      <td>0.6944</td>\n",
       "      <td>0.0908</td>\n",
       "      <td>0.4961</td>\n",
       "      <td>0.0722</td>\n",
       "      <td>0.6521</td>\n",
       "      <td>-0.0130</td>\n",
       "      <td>0.6085</td>\n",
       "      <td>0.0631</td>\n",
       "      <td>0.6597</td>\n",
       "      <td>2</td>\n",
       "    </tr>\n",
       "    <tr>\n",
       "      <th>2</th>\n",
       "      <td>0.5184</td>\n",
       "      <td>0.2283</td>\n",
       "      <td>0.5300</td>\n",
       "      <td>0.6884</td>\n",
       "      <td>0.7456</td>\n",
       "      <td>0.6171</td>\n",
       "      <td>0.6136</td>\n",
       "      <td>0.5928</td>\n",
       "      <td>0.7678</td>\n",
       "      <td>0.6130</td>\n",
       "      <td>0.6705</td>\n",
       "      <td>0.5202</td>\n",
       "      <td>1</td>\n",
       "    </tr>\n",
       "    <tr>\n",
       "      <th>3</th>\n",
       "      <td>0.4208</td>\n",
       "      <td>0.6740</td>\n",
       "      <td>0.1651</td>\n",
       "      <td>0.7592</td>\n",
       "      <td>0.1810</td>\n",
       "      <td>0.5448</td>\n",
       "      <td>0.1707</td>\n",
       "      <td>0.7554</td>\n",
       "      <td>0.1635</td>\n",
       "      <td>0.5492</td>\n",
       "      <td>0.2598</td>\n",
       "      <td>0.6455</td>\n",
       "      <td>2</td>\n",
       "    </tr>\n",
       "    <tr>\n",
       "      <th>5</th>\n",
       "      <td>1.1458</td>\n",
       "      <td>-0.0467</td>\n",
       "      <td>0.4056</td>\n",
       "      <td>0.5662</td>\n",
       "      <td>0.3123</td>\n",
       "      <td>0.4580</td>\n",
       "      <td>0.3636</td>\n",
       "      <td>0.6134</td>\n",
       "      <td>0.3305</td>\n",
       "      <td>0.4132</td>\n",
       "      <td>0.4167</td>\n",
       "      <td>0.5514</td>\n",
       "      <td>2</td>\n",
       "    </tr>\n",
       "    <tr>\n",
       "      <th>...</th>\n",
       "      <td>...</td>\n",
       "      <td>...</td>\n",
       "      <td>...</td>\n",
       "      <td>...</td>\n",
       "      <td>...</td>\n",
       "      <td>...</td>\n",
       "      <td>...</td>\n",
       "      <td>...</td>\n",
       "      <td>...</td>\n",
       "      <td>...</td>\n",
       "      <td>...</td>\n",
       "      <td>...</td>\n",
       "      <td>...</td>\n",
       "    </tr>\n",
       "    <tr>\n",
       "      <th>992</th>\n",
       "      <td>0.9463</td>\n",
       "      <td>0.0202</td>\n",
       "      <td>1.3809</td>\n",
       "      <td>0.1522</td>\n",
       "      <td>1.6763</td>\n",
       "      <td>0.0578</td>\n",
       "      <td>1.3851</td>\n",
       "      <td>0.1532</td>\n",
       "      <td>1.6485</td>\n",
       "      <td>0.1135</td>\n",
       "      <td>1.3393</td>\n",
       "      <td>0.2017</td>\n",
       "      <td>1</td>\n",
       "    </tr>\n",
       "    <tr>\n",
       "      <th>994</th>\n",
       "      <td>0.1724</td>\n",
       "      <td>0.3817</td>\n",
       "      <td>0.1702</td>\n",
       "      <td>0.7203</td>\n",
       "      <td>0.2873</td>\n",
       "      <td>0.7049</td>\n",
       "      <td>0.2921</td>\n",
       "      <td>0.5731</td>\n",
       "      <td>0.3515</td>\n",
       "      <td>0.6442</td>\n",
       "      <td>0.2986</td>\n",
       "      <td>0.5659</td>\n",
       "      <td>1</td>\n",
       "    </tr>\n",
       "    <tr>\n",
       "      <th>996</th>\n",
       "      <td>0.1263</td>\n",
       "      <td>0.6105</td>\n",
       "      <td>0.2655</td>\n",
       "      <td>0.8748</td>\n",
       "      <td>0.2336</td>\n",
       "      <td>1.0768</td>\n",
       "      <td>0.1833</td>\n",
       "      <td>0.9726</td>\n",
       "      <td>0.3004</td>\n",
       "      <td>1.0165</td>\n",
       "      <td>0.1962</td>\n",
       "      <td>0.9532</td>\n",
       "      <td>1</td>\n",
       "    </tr>\n",
       "    <tr>\n",
       "      <th>997</th>\n",
       "      <td>0.6043</td>\n",
       "      <td>0.4914</td>\n",
       "      <td>1.0900</td>\n",
       "      <td>0.5961</td>\n",
       "      <td>1.0569</td>\n",
       "      <td>0.8966</td>\n",
       "      <td>1.0279</td>\n",
       "      <td>0.6694</td>\n",
       "      <td>1.2127</td>\n",
       "      <td>0.7549</td>\n",
       "      <td>1.0654</td>\n",
       "      <td>0.6278</td>\n",
       "      <td>1</td>\n",
       "    </tr>\n",
       "    <tr>\n",
       "      <th>998</th>\n",
       "      <td>1.0284</td>\n",
       "      <td>0.0893</td>\n",
       "      <td>0.4097</td>\n",
       "      <td>0.9375</td>\n",
       "      <td>0.2813</td>\n",
       "      <td>0.6865</td>\n",
       "      <td>0.3827</td>\n",
       "      <td>0.9620</td>\n",
       "      <td>0.2830</td>\n",
       "      <td>0.6586</td>\n",
       "      <td>0.3508</td>\n",
       "      <td>1.0086</td>\n",
       "      <td>2</td>\n",
       "    </tr>\n",
       "  </tbody>\n",
       "</table>\n",
       "<p>659 rows × 13 columns</p>\n",
       "</div>"
      ],
      "text/plain": [
       "         F1      F2      F3      F4      F5      F6      F7      F8      F9  \\\n",
       "0    0.3315  0.2156  0.6802  0.1434  0.6825  0.2720  0.6223  0.2092  0.7961   \n",
       "1    0.0939  1.0089  0.0365  0.6944  0.0908  0.4961  0.0722  0.6521 -0.0130   \n",
       "2    0.5184  0.2283  0.5300  0.6884  0.7456  0.6171  0.6136  0.5928  0.7678   \n",
       "3    0.4208  0.6740  0.1651  0.7592  0.1810  0.5448  0.1707  0.7554  0.1635   \n",
       "5    1.1458 -0.0467  0.4056  0.5662  0.3123  0.4580  0.3636  0.6134  0.3305   \n",
       "..      ...     ...     ...     ...     ...     ...     ...     ...     ...   \n",
       "992  0.9463  0.0202  1.3809  0.1522  1.6763  0.0578  1.3851  0.1532  1.6485   \n",
       "994  0.1724  0.3817  0.1702  0.7203  0.2873  0.7049  0.2921  0.5731  0.3515   \n",
       "996  0.1263  0.6105  0.2655  0.8748  0.2336  1.0768  0.1833  0.9726  0.3004   \n",
       "997  0.6043  0.4914  1.0900  0.5961  1.0569  0.8966  1.0279  0.6694  1.2127   \n",
       "998  1.0284  0.0893  0.4097  0.9375  0.2813  0.6865  0.3827  0.9620  0.2830   \n",
       "\n",
       "        F10     F11     F12  L  \n",
       "0    0.1530  0.5856  0.2573  1  \n",
       "1    0.6085  0.0631  0.6597  2  \n",
       "2    0.6130  0.6705  0.5202  1  \n",
       "3    0.5492  0.2598  0.6455  2  \n",
       "5    0.4132  0.4167  0.5514  2  \n",
       "..      ...     ...     ... ..  \n",
       "992  0.1135  1.3393  0.2017  1  \n",
       "994  0.6442  0.2986  0.5659  1  \n",
       "996  1.0165  0.1962  0.9532  1  \n",
       "997  0.7549  1.0654  0.6278  1  \n",
       "998  0.6586  0.3508  1.0086  2  \n",
       "\n",
       "[659 rows x 13 columns]"
      ]
     },
     "execution_count": 5,
     "metadata": {},
     "output_type": "execute_result"
    }
   ],
   "source": [
    "df"
   ]
  },
  {
   "cell_type": "code",
   "execution_count": 6,
   "metadata": {},
   "outputs": [
    {
     "name": "stderr",
     "output_type": "stream",
     "text": [
      "C:\\Python\\anaconda3\\lib\\site-packages\\pandas\\core\\generic.py:6746: SettingWithCopyWarning: \n",
      "A value is trying to be set on a copy of a slice from a DataFrame\n",
      "\n",
      "See the caveats in the documentation: https://pandas.pydata.org/pandas-docs/stable/user_guide/indexing.html#returning-a-view-versus-a-copy\n",
      "  self._update_inplace(new_data)\n"
     ]
    }
   ],
   "source": [
    "df[\"L\"].replace(2,0,inplace=True)\n"
   ]
  },
  {
   "cell_type": "code",
   "execution_count": 7,
   "metadata": {},
   "outputs": [
    {
     "data": {
      "text/html": [
       "<div>\n",
       "<style scoped>\n",
       "    .dataframe tbody tr th:only-of-type {\n",
       "        vertical-align: middle;\n",
       "    }\n",
       "\n",
       "    .dataframe tbody tr th {\n",
       "        vertical-align: top;\n",
       "    }\n",
       "\n",
       "    .dataframe thead th {\n",
       "        text-align: right;\n",
       "    }\n",
       "</style>\n",
       "<table border=\"1\" class=\"dataframe\">\n",
       "  <thead>\n",
       "    <tr style=\"text-align: right;\">\n",
       "      <th></th>\n",
       "      <th>F1</th>\n",
       "      <th>F2</th>\n",
       "      <th>F3</th>\n",
       "      <th>F4</th>\n",
       "      <th>F5</th>\n",
       "      <th>F6</th>\n",
       "      <th>F7</th>\n",
       "      <th>F8</th>\n",
       "      <th>F9</th>\n",
       "      <th>F10</th>\n",
       "      <th>F11</th>\n",
       "      <th>F12</th>\n",
       "      <th>L</th>\n",
       "    </tr>\n",
       "  </thead>\n",
       "  <tbody>\n",
       "    <tr>\n",
       "      <th>0</th>\n",
       "      <td>0.3315</td>\n",
       "      <td>0.2156</td>\n",
       "      <td>0.6802</td>\n",
       "      <td>0.1434</td>\n",
       "      <td>0.6825</td>\n",
       "      <td>0.2720</td>\n",
       "      <td>0.6223</td>\n",
       "      <td>0.2092</td>\n",
       "      <td>0.7961</td>\n",
       "      <td>0.1530</td>\n",
       "      <td>0.5856</td>\n",
       "      <td>0.2573</td>\n",
       "      <td>1</td>\n",
       "    </tr>\n",
       "    <tr>\n",
       "      <th>1</th>\n",
       "      <td>0.0939</td>\n",
       "      <td>1.0089</td>\n",
       "      <td>0.0365</td>\n",
       "      <td>0.6944</td>\n",
       "      <td>0.0908</td>\n",
       "      <td>0.4961</td>\n",
       "      <td>0.0722</td>\n",
       "      <td>0.6521</td>\n",
       "      <td>-0.0130</td>\n",
       "      <td>0.6085</td>\n",
       "      <td>0.0631</td>\n",
       "      <td>0.6597</td>\n",
       "      <td>0</td>\n",
       "    </tr>\n",
       "    <tr>\n",
       "      <th>2</th>\n",
       "      <td>0.5184</td>\n",
       "      <td>0.2283</td>\n",
       "      <td>0.5300</td>\n",
       "      <td>0.6884</td>\n",
       "      <td>0.7456</td>\n",
       "      <td>0.6171</td>\n",
       "      <td>0.6136</td>\n",
       "      <td>0.5928</td>\n",
       "      <td>0.7678</td>\n",
       "      <td>0.6130</td>\n",
       "      <td>0.6705</td>\n",
       "      <td>0.5202</td>\n",
       "      <td>1</td>\n",
       "    </tr>\n",
       "    <tr>\n",
       "      <th>3</th>\n",
       "      <td>0.4208</td>\n",
       "      <td>0.6740</td>\n",
       "      <td>0.1651</td>\n",
       "      <td>0.7592</td>\n",
       "      <td>0.1810</td>\n",
       "      <td>0.5448</td>\n",
       "      <td>0.1707</td>\n",
       "      <td>0.7554</td>\n",
       "      <td>0.1635</td>\n",
       "      <td>0.5492</td>\n",
       "      <td>0.2598</td>\n",
       "      <td>0.6455</td>\n",
       "      <td>0</td>\n",
       "    </tr>\n",
       "    <tr>\n",
       "      <th>5</th>\n",
       "      <td>1.1458</td>\n",
       "      <td>-0.0467</td>\n",
       "      <td>0.4056</td>\n",
       "      <td>0.5662</td>\n",
       "      <td>0.3123</td>\n",
       "      <td>0.4580</td>\n",
       "      <td>0.3636</td>\n",
       "      <td>0.6134</td>\n",
       "      <td>0.3305</td>\n",
       "      <td>0.4132</td>\n",
       "      <td>0.4167</td>\n",
       "      <td>0.5514</td>\n",
       "      <td>0</td>\n",
       "    </tr>\n",
       "  </tbody>\n",
       "</table>\n",
       "</div>"
      ],
      "text/plain": [
       "       F1      F2      F3      F4      F5      F6      F7      F8      F9  \\\n",
       "0  0.3315  0.2156  0.6802  0.1434  0.6825  0.2720  0.6223  0.2092  0.7961   \n",
       "1  0.0939  1.0089  0.0365  0.6944  0.0908  0.4961  0.0722  0.6521 -0.0130   \n",
       "2  0.5184  0.2283  0.5300  0.6884  0.7456  0.6171  0.6136  0.5928  0.7678   \n",
       "3  0.4208  0.6740  0.1651  0.7592  0.1810  0.5448  0.1707  0.7554  0.1635   \n",
       "5  1.1458 -0.0467  0.4056  0.5662  0.3123  0.4580  0.3636  0.6134  0.3305   \n",
       "\n",
       "      F10     F11     F12  L  \n",
       "0  0.1530  0.5856  0.2573  1  \n",
       "1  0.6085  0.0631  0.6597  0  \n",
       "2  0.6130  0.6705  0.5202  1  \n",
       "3  0.5492  0.2598  0.6455  0  \n",
       "5  0.4132  0.4167  0.5514  0  "
      ]
     },
     "execution_count": 7,
     "metadata": {},
     "output_type": "execute_result"
    }
   ],
   "source": [
    "df.head()"
   ]
  },
  {
   "cell_type": "code",
   "execution_count": 8,
   "metadata": {},
   "outputs": [
    {
     "data": {
      "text/html": [
       "<div>\n",
       "<style scoped>\n",
       "    .dataframe tbody tr th:only-of-type {\n",
       "        vertical-align: middle;\n",
       "    }\n",
       "\n",
       "    .dataframe tbody tr th {\n",
       "        vertical-align: top;\n",
       "    }\n",
       "\n",
       "    .dataframe thead th {\n",
       "        text-align: right;\n",
       "    }\n",
       "</style>\n",
       "<table border=\"1\" class=\"dataframe\">\n",
       "  <thead>\n",
       "    <tr style=\"text-align: right;\">\n",
       "      <th></th>\n",
       "      <th>F1</th>\n",
       "      <th>F2</th>\n",
       "      <th>F3</th>\n",
       "      <th>F4</th>\n",
       "      <th>F5</th>\n",
       "      <th>F6</th>\n",
       "      <th>F7</th>\n",
       "      <th>F8</th>\n",
       "      <th>F9</th>\n",
       "      <th>F10</th>\n",
       "      <th>F11</th>\n",
       "      <th>F12</th>\n",
       "      <th>L</th>\n",
       "    </tr>\n",
       "  </thead>\n",
       "  <tbody>\n",
       "    <tr>\n",
       "      <th>1</th>\n",
       "      <td>0.0939</td>\n",
       "      <td>1.0089</td>\n",
       "      <td>0.0365</td>\n",
       "      <td>0.6944</td>\n",
       "      <td>0.0908</td>\n",
       "      <td>0.4961</td>\n",
       "      <td>0.0722</td>\n",
       "      <td>0.6521</td>\n",
       "      <td>-0.0130</td>\n",
       "      <td>0.6085</td>\n",
       "      <td>0.0631</td>\n",
       "      <td>0.6597</td>\n",
       "      <td>0</td>\n",
       "    </tr>\n",
       "    <tr>\n",
       "      <th>3</th>\n",
       "      <td>0.4208</td>\n",
       "      <td>0.6740</td>\n",
       "      <td>0.1651</td>\n",
       "      <td>0.7592</td>\n",
       "      <td>0.1810</td>\n",
       "      <td>0.5448</td>\n",
       "      <td>0.1707</td>\n",
       "      <td>0.7554</td>\n",
       "      <td>0.1635</td>\n",
       "      <td>0.5492</td>\n",
       "      <td>0.2598</td>\n",
       "      <td>0.6455</td>\n",
       "      <td>0</td>\n",
       "    </tr>\n",
       "    <tr>\n",
       "      <th>5</th>\n",
       "      <td>1.1458</td>\n",
       "      <td>-0.0467</td>\n",
       "      <td>0.4056</td>\n",
       "      <td>0.5662</td>\n",
       "      <td>0.3123</td>\n",
       "      <td>0.4580</td>\n",
       "      <td>0.3636</td>\n",
       "      <td>0.6134</td>\n",
       "      <td>0.3305</td>\n",
       "      <td>0.4132</td>\n",
       "      <td>0.4167</td>\n",
       "      <td>0.5514</td>\n",
       "      <td>0</td>\n",
       "    </tr>\n",
       "    <tr>\n",
       "      <th>10</th>\n",
       "      <td>1.1308</td>\n",
       "      <td>-0.0286</td>\n",
       "      <td>1.0005</td>\n",
       "      <td>0.7387</td>\n",
       "      <td>0.8390</td>\n",
       "      <td>0.1874</td>\n",
       "      <td>1.0848</td>\n",
       "      <td>0.6374</td>\n",
       "      <td>0.8534</td>\n",
       "      <td>0.1373</td>\n",
       "      <td>1.0422</td>\n",
       "      <td>0.6836</td>\n",
       "      <td>0</td>\n",
       "    </tr>\n",
       "    <tr>\n",
       "      <th>11</th>\n",
       "      <td>0.5093</td>\n",
       "      <td>0.6038</td>\n",
       "      <td>0.2874</td>\n",
       "      <td>0.8162</td>\n",
       "      <td>0.2267</td>\n",
       "      <td>0.6181</td>\n",
       "      <td>0.2646</td>\n",
       "      <td>0.8490</td>\n",
       "      <td>0.3365</td>\n",
       "      <td>0.4648</td>\n",
       "      <td>0.2815</td>\n",
       "      <td>0.8254</td>\n",
       "      <td>0</td>\n",
       "    </tr>\n",
       "  </tbody>\n",
       "</table>\n",
       "</div>"
      ],
      "text/plain": [
       "        F1      F2      F3      F4      F5      F6      F7      F8      F9  \\\n",
       "1   0.0939  1.0089  0.0365  0.6944  0.0908  0.4961  0.0722  0.6521 -0.0130   \n",
       "3   0.4208  0.6740  0.1651  0.7592  0.1810  0.5448  0.1707  0.7554  0.1635   \n",
       "5   1.1458 -0.0467  0.4056  0.5662  0.3123  0.4580  0.3636  0.6134  0.3305   \n",
       "10  1.1308 -0.0286  1.0005  0.7387  0.8390  0.1874  1.0848  0.6374  0.8534   \n",
       "11  0.5093  0.6038  0.2874  0.8162  0.2267  0.6181  0.2646  0.8490  0.3365   \n",
       "\n",
       "       F10     F11     F12  L  \n",
       "1   0.6085  0.0631  0.6597  0  \n",
       "3   0.5492  0.2598  0.6455  0  \n",
       "5   0.4132  0.4167  0.5514  0  \n",
       "10  0.1373  1.0422  0.6836  0  \n",
       "11  0.4648  0.2815  0.8254  0  "
      ]
     },
     "execution_count": 8,
     "metadata": {},
     "output_type": "execute_result"
    }
   ],
   "source": [
    "df[df['L']==0].head()"
   ]
  },
  {
   "cell_type": "code",
   "execution_count": 9,
   "metadata": {},
   "outputs": [
    {
     "data": {
      "text/plain": [
       "array([1, 0], dtype=int64)"
      ]
     },
     "execution_count": 9,
     "metadata": {},
     "output_type": "execute_result"
    }
   ],
   "source": [
    "df['L'].unique()"
   ]
  },
  {
   "cell_type": "code",
   "execution_count": 10,
   "metadata": {},
   "outputs": [],
   "source": [
    "x = df.iloc[:,:12]"
   ]
  },
  {
   "cell_type": "code",
   "execution_count": 11,
   "metadata": {},
   "outputs": [
    {
     "data": {
      "text/html": [
       "<div>\n",
       "<style scoped>\n",
       "    .dataframe tbody tr th:only-of-type {\n",
       "        vertical-align: middle;\n",
       "    }\n",
       "\n",
       "    .dataframe tbody tr th {\n",
       "        vertical-align: top;\n",
       "    }\n",
       "\n",
       "    .dataframe thead th {\n",
       "        text-align: right;\n",
       "    }\n",
       "</style>\n",
       "<table border=\"1\" class=\"dataframe\">\n",
       "  <thead>\n",
       "    <tr style=\"text-align: right;\">\n",
       "      <th></th>\n",
       "      <th>F1</th>\n",
       "      <th>F2</th>\n",
       "      <th>F3</th>\n",
       "      <th>F4</th>\n",
       "      <th>F5</th>\n",
       "      <th>F6</th>\n",
       "      <th>F7</th>\n",
       "      <th>F8</th>\n",
       "      <th>F9</th>\n",
       "      <th>F10</th>\n",
       "      <th>F11</th>\n",
       "      <th>F12</th>\n",
       "    </tr>\n",
       "  </thead>\n",
       "  <tbody>\n",
       "    <tr>\n",
       "      <th>0</th>\n",
       "      <td>0.3315</td>\n",
       "      <td>0.2156</td>\n",
       "      <td>0.6802</td>\n",
       "      <td>0.1434</td>\n",
       "      <td>0.6825</td>\n",
       "      <td>0.2720</td>\n",
       "      <td>0.6223</td>\n",
       "      <td>0.2092</td>\n",
       "      <td>0.7961</td>\n",
       "      <td>0.1530</td>\n",
       "      <td>0.5856</td>\n",
       "      <td>0.2573</td>\n",
       "    </tr>\n",
       "    <tr>\n",
       "      <th>1</th>\n",
       "      <td>0.0939</td>\n",
       "      <td>1.0089</td>\n",
       "      <td>0.0365</td>\n",
       "      <td>0.6944</td>\n",
       "      <td>0.0908</td>\n",
       "      <td>0.4961</td>\n",
       "      <td>0.0722</td>\n",
       "      <td>0.6521</td>\n",
       "      <td>-0.0130</td>\n",
       "      <td>0.6085</td>\n",
       "      <td>0.0631</td>\n",
       "      <td>0.6597</td>\n",
       "    </tr>\n",
       "    <tr>\n",
       "      <th>2</th>\n",
       "      <td>0.5184</td>\n",
       "      <td>0.2283</td>\n",
       "      <td>0.5300</td>\n",
       "      <td>0.6884</td>\n",
       "      <td>0.7456</td>\n",
       "      <td>0.6171</td>\n",
       "      <td>0.6136</td>\n",
       "      <td>0.5928</td>\n",
       "      <td>0.7678</td>\n",
       "      <td>0.6130</td>\n",
       "      <td>0.6705</td>\n",
       "      <td>0.5202</td>\n",
       "    </tr>\n",
       "  </tbody>\n",
       "</table>\n",
       "</div>"
      ],
      "text/plain": [
       "       F1      F2      F3      F4      F5      F6      F7      F8      F9  \\\n",
       "0  0.3315  0.2156  0.6802  0.1434  0.6825  0.2720  0.6223  0.2092  0.7961   \n",
       "1  0.0939  1.0089  0.0365  0.6944  0.0908  0.4961  0.0722  0.6521 -0.0130   \n",
       "2  0.5184  0.2283  0.5300  0.6884  0.7456  0.6171  0.6136  0.5928  0.7678   \n",
       "\n",
       "      F10     F11     F12  \n",
       "0  0.1530  0.5856  0.2573  \n",
       "1  0.6085  0.0631  0.6597  \n",
       "2  0.6130  0.6705  0.5202  "
      ]
     },
     "execution_count": 11,
     "metadata": {},
     "output_type": "execute_result"
    }
   ],
   "source": [
    "x.head(3)"
   ]
  },
  {
   "cell_type": "code",
   "execution_count": 12,
   "metadata": {},
   "outputs": [],
   "source": [
    "y = df.iloc[:,12:]"
   ]
  },
  {
   "cell_type": "code",
   "execution_count": 13,
   "metadata": {},
   "outputs": [
    {
     "data": {
      "text/html": [
       "<div>\n",
       "<style scoped>\n",
       "    .dataframe tbody tr th:only-of-type {\n",
       "        vertical-align: middle;\n",
       "    }\n",
       "\n",
       "    .dataframe tbody tr th {\n",
       "        vertical-align: top;\n",
       "    }\n",
       "\n",
       "    .dataframe thead th {\n",
       "        text-align: right;\n",
       "    }\n",
       "</style>\n",
       "<table border=\"1\" class=\"dataframe\">\n",
       "  <thead>\n",
       "    <tr style=\"text-align: right;\">\n",
       "      <th></th>\n",
       "      <th>L</th>\n",
       "    </tr>\n",
       "  </thead>\n",
       "  <tbody>\n",
       "    <tr>\n",
       "      <th>0</th>\n",
       "      <td>1</td>\n",
       "    </tr>\n",
       "    <tr>\n",
       "      <th>1</th>\n",
       "      <td>0</td>\n",
       "    </tr>\n",
       "    <tr>\n",
       "      <th>2</th>\n",
       "      <td>1</td>\n",
       "    </tr>\n",
       "  </tbody>\n",
       "</table>\n",
       "</div>"
      ],
      "text/plain": [
       "   L\n",
       "0  1\n",
       "1  0\n",
       "2  1"
      ]
     },
     "execution_count": 13,
     "metadata": {},
     "output_type": "execute_result"
    }
   ],
   "source": [
    "y.head(3)"
   ]
  },
  {
   "cell_type": "code",
   "execution_count": 14,
   "metadata": {},
   "outputs": [],
   "source": [
    "from sklearn.model_selection import train_test_split"
   ]
  },
  {
   "cell_type": "code",
   "execution_count": 15,
   "metadata": {},
   "outputs": [],
   "source": [
    "x_train,x_test,y_train,y_test=train_test_split(x,y,test_size=0.3,random_state=5)"
   ]
  },
  {
   "cell_type": "code",
   "execution_count": 16,
   "metadata": {},
   "outputs": [
    {
     "data": {
      "text/plain": [
       "((461, 12), (461, 1))"
      ]
     },
     "execution_count": 16,
     "metadata": {},
     "output_type": "execute_result"
    }
   ],
   "source": [
    "x_train.shape,y_train.shape"
   ]
  },
  {
   "cell_type": "code",
   "execution_count": 17,
   "metadata": {},
   "outputs": [
    {
     "data": {
      "text/plain": [
       "((198, 12), (198, 1))"
      ]
     },
     "execution_count": 17,
     "metadata": {},
     "output_type": "execute_result"
    }
   ],
   "source": [
    "x_test.shape,y_test.shape"
   ]
  },
  {
   "cell_type": "code",
   "execution_count": 18,
   "metadata": {},
   "outputs": [
    {
     "data": {
      "text/html": [
       "<div>\n",
       "<style scoped>\n",
       "    .dataframe tbody tr th:only-of-type {\n",
       "        vertical-align: middle;\n",
       "    }\n",
       "\n",
       "    .dataframe tbody tr th {\n",
       "        vertical-align: top;\n",
       "    }\n",
       "\n",
       "    .dataframe thead th {\n",
       "        text-align: right;\n",
       "    }\n",
       "</style>\n",
       "<table border=\"1\" class=\"dataframe\">\n",
       "  <thead>\n",
       "    <tr style=\"text-align: right;\">\n",
       "      <th></th>\n",
       "      <th>F1</th>\n",
       "      <th>F2</th>\n",
       "      <th>F3</th>\n",
       "      <th>F4</th>\n",
       "      <th>F5</th>\n",
       "      <th>F6</th>\n",
       "      <th>F7</th>\n",
       "      <th>F8</th>\n",
       "      <th>F9</th>\n",
       "      <th>F10</th>\n",
       "      <th>F11</th>\n",
       "      <th>F12</th>\n",
       "    </tr>\n",
       "  </thead>\n",
       "  <tbody>\n",
       "    <tr>\n",
       "      <th>count</th>\n",
       "      <td>461.000000</td>\n",
       "      <td>461.000000</td>\n",
       "      <td>461.000000</td>\n",
       "      <td>461.000000</td>\n",
       "      <td>461.000000</td>\n",
       "      <td>461.000000</td>\n",
       "      <td>461.000000</td>\n",
       "      <td>461.000000</td>\n",
       "      <td>461.000000</td>\n",
       "      <td>461.000000</td>\n",
       "      <td>461.000000</td>\n",
       "      <td>461.000000</td>\n",
       "    </tr>\n",
       "    <tr>\n",
       "      <th>mean</th>\n",
       "      <td>0.588423</td>\n",
       "      <td>0.311000</td>\n",
       "      <td>0.545551</td>\n",
       "      <td>0.648077</td>\n",
       "      <td>0.535317</td>\n",
       "      <td>0.604713</td>\n",
       "      <td>0.550027</td>\n",
       "      <td>0.642447</td>\n",
       "      <td>0.541433</td>\n",
       "      <td>0.590129</td>\n",
       "      <td>0.548657</td>\n",
       "      <td>0.644264</td>\n",
       "    </tr>\n",
       "    <tr>\n",
       "      <th>std</th>\n",
       "      <td>0.382832</td>\n",
       "      <td>0.293625</td>\n",
       "      <td>0.336427</td>\n",
       "      <td>0.369489</td>\n",
       "      <td>0.337884</td>\n",
       "      <td>0.355764</td>\n",
       "      <td>0.338509</td>\n",
       "      <td>0.364697</td>\n",
       "      <td>0.344179</td>\n",
       "      <td>0.348466</td>\n",
       "      <td>0.339219</td>\n",
       "      <td>0.371304</td>\n",
       "    </tr>\n",
       "    <tr>\n",
       "      <th>min</th>\n",
       "      <td>-0.042100</td>\n",
       "      <td>-0.178300</td>\n",
       "      <td>-0.066500</td>\n",
       "      <td>-0.125600</td>\n",
       "      <td>-0.078700</td>\n",
       "      <td>-0.102500</td>\n",
       "      <td>-0.052600</td>\n",
       "      <td>-0.056800</td>\n",
       "      <td>-0.069100</td>\n",
       "      <td>-0.107500</td>\n",
       "      <td>-0.093300</td>\n",
       "      <td>-0.059500</td>\n",
       "    </tr>\n",
       "    <tr>\n",
       "      <th>25%</th>\n",
       "      <td>0.277100</td>\n",
       "      <td>0.055200</td>\n",
       "      <td>0.281000</td>\n",
       "      <td>0.365500</td>\n",
       "      <td>0.280900</td>\n",
       "      <td>0.333300</td>\n",
       "      <td>0.277500</td>\n",
       "      <td>0.348900</td>\n",
       "      <td>0.291500</td>\n",
       "      <td>0.327000</td>\n",
       "      <td>0.293600</td>\n",
       "      <td>0.355800</td>\n",
       "    </tr>\n",
       "    <tr>\n",
       "      <th>50%</th>\n",
       "      <td>0.484300</td>\n",
       "      <td>0.283900</td>\n",
       "      <td>0.514800</td>\n",
       "      <td>0.630600</td>\n",
       "      <td>0.492200</td>\n",
       "      <td>0.563500</td>\n",
       "      <td>0.528500</td>\n",
       "      <td>0.633300</td>\n",
       "      <td>0.497700</td>\n",
       "      <td>0.558200</td>\n",
       "      <td>0.520400</td>\n",
       "      <td>0.651100</td>\n",
       "    </tr>\n",
       "    <tr>\n",
       "      <th>75%</th>\n",
       "      <td>1.038400</td>\n",
       "      <td>0.500700</td>\n",
       "      <td>0.740700</td>\n",
       "      <td>0.872100</td>\n",
       "      <td>0.745800</td>\n",
       "      <td>0.842300</td>\n",
       "      <td>0.745700</td>\n",
       "      <td>0.894700</td>\n",
       "      <td>0.769300</td>\n",
       "      <td>0.810100</td>\n",
       "      <td>0.753100</td>\n",
       "      <td>0.885400</td>\n",
       "    </tr>\n",
       "    <tr>\n",
       "      <th>max</th>\n",
       "      <td>1.255500</td>\n",
       "      <td>1.128400</td>\n",
       "      <td>1.839300</td>\n",
       "      <td>1.679500</td>\n",
       "      <td>1.891400</td>\n",
       "      <td>1.734700</td>\n",
       "      <td>1.780600</td>\n",
       "      <td>1.694200</td>\n",
       "      <td>1.882900</td>\n",
       "      <td>1.670000</td>\n",
       "      <td>1.756400</td>\n",
       "      <td>1.713800</td>\n",
       "    </tr>\n",
       "  </tbody>\n",
       "</table>\n",
       "</div>"
      ],
      "text/plain": [
       "               F1          F2          F3          F4          F5          F6  \\\n",
       "count  461.000000  461.000000  461.000000  461.000000  461.000000  461.000000   \n",
       "mean     0.588423    0.311000    0.545551    0.648077    0.535317    0.604713   \n",
       "std      0.382832    0.293625    0.336427    0.369489    0.337884    0.355764   \n",
       "min     -0.042100   -0.178300   -0.066500   -0.125600   -0.078700   -0.102500   \n",
       "25%      0.277100    0.055200    0.281000    0.365500    0.280900    0.333300   \n",
       "50%      0.484300    0.283900    0.514800    0.630600    0.492200    0.563500   \n",
       "75%      1.038400    0.500700    0.740700    0.872100    0.745800    0.842300   \n",
       "max      1.255500    1.128400    1.839300    1.679500    1.891400    1.734700   \n",
       "\n",
       "               F7          F8          F9         F10         F11         F12  \n",
       "count  461.000000  461.000000  461.000000  461.000000  461.000000  461.000000  \n",
       "mean     0.550027    0.642447    0.541433    0.590129    0.548657    0.644264  \n",
       "std      0.338509    0.364697    0.344179    0.348466    0.339219    0.371304  \n",
       "min     -0.052600   -0.056800   -0.069100   -0.107500   -0.093300   -0.059500  \n",
       "25%      0.277500    0.348900    0.291500    0.327000    0.293600    0.355800  \n",
       "50%      0.528500    0.633300    0.497700    0.558200    0.520400    0.651100  \n",
       "75%      0.745700    0.894700    0.769300    0.810100    0.753100    0.885400  \n",
       "max      1.780600    1.694200    1.882900    1.670000    1.756400    1.713800  "
      ]
     },
     "execution_count": 18,
     "metadata": {},
     "output_type": "execute_result"
    }
   ],
   "source": [
    "x_train.describe()"
   ]
  },
  {
   "cell_type": "code",
   "execution_count": 19,
   "metadata": {},
   "outputs": [
    {
     "data": {
      "text/html": [
       "<div>\n",
       "<style scoped>\n",
       "    .dataframe tbody tr th:only-of-type {\n",
       "        vertical-align: middle;\n",
       "    }\n",
       "\n",
       "    .dataframe tbody tr th {\n",
       "        vertical-align: top;\n",
       "    }\n",
       "\n",
       "    .dataframe thead th {\n",
       "        text-align: right;\n",
       "    }\n",
       "</style>\n",
       "<table border=\"1\" class=\"dataframe\">\n",
       "  <thead>\n",
       "    <tr style=\"text-align: right;\">\n",
       "      <th></th>\n",
       "      <th>L</th>\n",
       "    </tr>\n",
       "  </thead>\n",
       "  <tbody>\n",
       "    <tr>\n",
       "      <th>count</th>\n",
       "      <td>461.000000</td>\n",
       "    </tr>\n",
       "    <tr>\n",
       "      <th>mean</th>\n",
       "      <td>0.524946</td>\n",
       "    </tr>\n",
       "    <tr>\n",
       "      <th>std</th>\n",
       "      <td>0.499920</td>\n",
       "    </tr>\n",
       "    <tr>\n",
       "      <th>min</th>\n",
       "      <td>0.000000</td>\n",
       "    </tr>\n",
       "    <tr>\n",
       "      <th>25%</th>\n",
       "      <td>0.000000</td>\n",
       "    </tr>\n",
       "    <tr>\n",
       "      <th>50%</th>\n",
       "      <td>1.000000</td>\n",
       "    </tr>\n",
       "    <tr>\n",
       "      <th>75%</th>\n",
       "      <td>1.000000</td>\n",
       "    </tr>\n",
       "    <tr>\n",
       "      <th>max</th>\n",
       "      <td>1.000000</td>\n",
       "    </tr>\n",
       "  </tbody>\n",
       "</table>\n",
       "</div>"
      ],
      "text/plain": [
       "                L\n",
       "count  461.000000\n",
       "mean     0.524946\n",
       "std      0.499920\n",
       "min      0.000000\n",
       "25%      0.000000\n",
       "50%      1.000000\n",
       "75%      1.000000\n",
       "max      1.000000"
      ]
     },
     "execution_count": 19,
     "metadata": {},
     "output_type": "execute_result"
    }
   ],
   "source": [
    "y_train.describe()"
   ]
  },
  {
   "cell_type": "code",
   "execution_count": 20,
   "metadata": {},
   "outputs": [],
   "source": [
    "from sklearn.preprocessing import StandardScaler"
   ]
  },
  {
   "cell_type": "code",
   "execution_count": 21,
   "metadata": {},
   "outputs": [],
   "source": [
    "sc=StandardScaler()"
   ]
  },
  {
   "cell_type": "code",
   "execution_count": 22,
   "metadata": {},
   "outputs": [],
   "source": [
    "x_train_sc=sc.fit_transform(x_train)"
   ]
  },
  {
   "cell_type": "code",
   "execution_count": 23,
   "metadata": {},
   "outputs": [],
   "source": [
    "x_test_sc=sc.fit_transform(x_test)"
   ]
  },
  {
   "cell_type": "code",
   "execution_count": null,
   "metadata": {},
   "outputs": [],
   "source": []
  },
  {
   "cell_type": "code",
   "execution_count": 24,
   "metadata": {},
   "outputs": [],
   "source": [
    "from sklearn.linear_model import LogisticRegression"
   ]
  },
  {
   "cell_type": "code",
   "execution_count": 25,
   "metadata": {},
   "outputs": [],
   "source": [
    "classifier=LogisticRegression(random_state=4)"
   ]
  },
  {
   "cell_type": "code",
   "execution_count": 26,
   "metadata": {},
   "outputs": [
    {
     "name": "stderr",
     "output_type": "stream",
     "text": [
      "C:\\Python\\anaconda3\\lib\\site-packages\\sklearn\\utils\\validation.py:73: DataConversionWarning: A column-vector y was passed when a 1d array was expected. Please change the shape of y to (n_samples, ), for example using ravel().\n",
      "  return f(**kwargs)\n"
     ]
    },
    {
     "data": {
      "text/plain": [
       "LogisticRegression(random_state=4)"
      ]
     },
     "execution_count": 26,
     "metadata": {},
     "output_type": "execute_result"
    }
   ],
   "source": [
    "classifier.fit(x_train_sc,y_train)"
   ]
  },
  {
   "cell_type": "code",
   "execution_count": 27,
   "metadata": {},
   "outputs": [],
   "source": [
    "y_pred=classifier.predict(x_test)"
   ]
  },
  {
   "cell_type": "code",
   "execution_count": 28,
   "metadata": {},
   "outputs": [
    {
     "data": {
      "text/plain": [
       "array([0, 0, 0, 1, 1, 1, 0, 0, 1, 0, 1, 0, 1, 0, 0, 0, 0, 0, 1, 1, 0, 0,\n",
       "       0, 0, 1, 1, 1, 1, 0, 0, 1, 1, 0, 0, 0, 0, 0, 0, 0, 1, 0, 1, 0, 0,\n",
       "       0, 0, 1, 0, 1, 0, 0, 0, 0, 1, 1, 0, 0, 0, 1, 0, 1, 0, 1, 0, 0, 1,\n",
       "       1, 1, 0, 1, 0, 0, 0, 1, 0, 0, 1, 0, 0, 1, 1, 0, 0, 0, 0, 0, 0, 1,\n",
       "       0, 0, 0, 1, 0, 0, 0, 0, 1, 1, 0, 0, 0, 0, 1, 0, 1, 0, 0, 1, 0, 1,\n",
       "       0, 1, 1, 0, 1, 0, 1, 1, 1, 1, 0, 0, 0, 0, 1, 1, 0, 1, 0, 0, 1, 0,\n",
       "       0, 1, 1, 0, 0, 0, 1, 1, 1, 0, 1, 0, 0, 1, 1, 1, 1, 0, 1, 0, 1, 0,\n",
       "       0, 1, 0, 1, 0, 0, 1, 0, 0, 1, 0, 1, 1, 0, 0, 1, 1, 0, 0, 0, 0, 0,\n",
       "       0, 0, 1, 1, 0, 0, 0, 1, 0, 0, 0, 1, 0, 1, 0, 0, 0, 0, 1, 0, 0, 0],\n",
       "      dtype=int64)"
      ]
     },
     "execution_count": 28,
     "metadata": {},
     "output_type": "execute_result"
    }
   ],
   "source": [
    "y_pred"
   ]
  },
  {
   "cell_type": "code",
   "execution_count": 29,
   "metadata": {},
   "outputs": [
    {
     "data": {
      "text/html": [
       "<div>\n",
       "<style scoped>\n",
       "    .dataframe tbody tr th:only-of-type {\n",
       "        vertical-align: middle;\n",
       "    }\n",
       "\n",
       "    .dataframe tbody tr th {\n",
       "        vertical-align: top;\n",
       "    }\n",
       "\n",
       "    .dataframe thead th {\n",
       "        text-align: right;\n",
       "    }\n",
       "</style>\n",
       "<table border=\"1\" class=\"dataframe\">\n",
       "  <thead>\n",
       "    <tr style=\"text-align: right;\">\n",
       "      <th></th>\n",
       "      <th>L</th>\n",
       "    </tr>\n",
       "  </thead>\n",
       "  <tbody>\n",
       "    <tr>\n",
       "      <th>583</th>\n",
       "      <td>0</td>\n",
       "    </tr>\n",
       "    <tr>\n",
       "      <th>365</th>\n",
       "      <td>1</td>\n",
       "    </tr>\n",
       "    <tr>\n",
       "      <th>271</th>\n",
       "      <td>0</td>\n",
       "    </tr>\n",
       "    <tr>\n",
       "      <th>72</th>\n",
       "      <td>1</td>\n",
       "    </tr>\n",
       "    <tr>\n",
       "      <th>432</th>\n",
       "      <td>1</td>\n",
       "    </tr>\n",
       "  </tbody>\n",
       "</table>\n",
       "</div>"
      ],
      "text/plain": [
       "     L\n",
       "583  0\n",
       "365  1\n",
       "271  0\n",
       "72   1\n",
       "432  1"
      ]
     },
     "execution_count": 29,
     "metadata": {},
     "output_type": "execute_result"
    }
   ],
   "source": [
    "y_test.head()"
   ]
  },
  {
   "cell_type": "code",
   "execution_count": 30,
   "metadata": {},
   "outputs": [],
   "source": [
    "from sklearn.metrics import confusion_matrix"
   ]
  },
  {
   "cell_type": "code",
   "execution_count": 31,
   "metadata": {},
   "outputs": [
    {
     "data": {
      "text/plain": [
       "array([[97,  0],\n",
       "       [25, 76]], dtype=int64)"
      ]
     },
     "execution_count": 31,
     "metadata": {},
     "output_type": "execute_result"
    }
   ],
   "source": [
    "cm=confusion_matrix(y_test,y_pred)\n",
    "cm"
   ]
  },
  {
   "cell_type": "code",
   "execution_count": 32,
   "metadata": {},
   "outputs": [],
   "source": [
    "from sklearn.metrics import accuracy_score"
   ]
  },
  {
   "cell_type": "code",
   "execution_count": 33,
   "metadata": {},
   "outputs": [
    {
     "name": "stdout",
     "output_type": "stream",
     "text": [
      "accuracy score= 0.8737373737373737\n"
     ]
    }
   ],
   "source": [
    "print(\"accuracy score=\", accuracy_score(y_test,y_pred))"
   ]
  },
  {
   "cell_type": "code",
   "execution_count": 34,
   "metadata": {},
   "outputs": [
    {
     "data": {
      "text/plain": [
       "array([1], dtype=int64)"
      ]
     },
     "execution_count": 34,
     "metadata": {},
     "output_type": "execute_result"
    }
   ],
   "source": [
    "classifier.predict(np.arange(12).reshape(-12, 12))"
   ]
  },
  {
   "cell_type": "code",
   "execution_count": 35,
   "metadata": {},
   "outputs": [
    {
     "data": {
      "text/plain": [
       "array([[10, 11, 12, 13, 14, 15, 16, 17, 18, 19, 20, 21]])"
      ]
     },
     "execution_count": 35,
     "metadata": {},
     "output_type": "execute_result"
    }
   ],
   "source": [
    "np.arange(10,22).reshape(-12, 12)"
   ]
  },
  {
   "cell_type": "code",
   "execution_count": 36,
   "metadata": {},
   "outputs": [
    {
     "ename": "AttributeError",
     "evalue": "module 'matplotlib' has no attribute 'plot'",
     "output_type": "error",
     "traceback": [
      "\u001b[1;31m---------------------------------------------------------------------------\u001b[0m",
      "\u001b[1;31mAttributeError\u001b[0m                            Traceback (most recent call last)",
      "\u001b[1;32m<ipython-input-36-9e8d6f1a249c>\u001b[0m in \u001b[0;36m<module>\u001b[1;34m\u001b[0m\n\u001b[1;32m----> 1\u001b[1;33m \u001b[0mplt\u001b[0m\u001b[1;33m.\u001b[0m\u001b[0mplot\u001b[0m\u001b[1;33m(\u001b[0m\u001b[0mx_test_sc\u001b[0m\u001b[1;33m,\u001b[0m\u001b[0my_pred\u001b[0m\u001b[1;33m)\u001b[0m\u001b[1;33m\u001b[0m\u001b[1;33m\u001b[0m\u001b[0m\n\u001b[0m",
      "\u001b[1;31mAttributeError\u001b[0m: module 'matplotlib' has no attribute 'plot'"
     ]
    }
   ],
   "source": [
    "plt.plot(x_test_sc,y_pred)"
   ]
  },
  {
   "cell_type": "code",
   "execution_count": null,
   "metadata": {},
   "outputs": [],
   "source": []
  }
 ],
 "metadata": {
  "kernelspec": {
   "display_name": "Python 3",
   "language": "python",
   "name": "python3"
  },
  "language_info": {
   "codemirror_mode": {
    "name": "ipython",
    "version": 3
   },
   "file_extension": ".py",
   "mimetype": "text/x-python",
   "name": "python",
   "nbconvert_exporter": "python",
   "pygments_lexer": "ipython3",
   "version": "3.8.3"
  }
 },
 "nbformat": 4,
 "nbformat_minor": 4
}
