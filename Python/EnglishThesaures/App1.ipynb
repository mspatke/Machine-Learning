{
 "cells": [
  {
   "cell_type": "code",
   "execution_count": null,
   "metadata": {},
   "outputs": [],
   "source": [
    "import json"
   ]
  },
  {
   "cell_type": "code",
   "execution_count": null,
   "metadata": {},
   "outputs": [],
   "source": [
    "json.load(open(\"data.json\"))"
   ]
  },
  {
   "cell_type": "code",
   "execution_count": null,
   "metadata": {},
   "outputs": [],
   "source": [
    "import json\n",
    "import difflib\n",
    "\n",
    "json.load(open(\"data.json\"))\n",
    "\n",
    "def tranlate(w):\n",
    "    w=w.lower()\n",
    "    match=difflib.get_close_matches(word, data.keys())\n",
    "    print(match)\n",
    "    w=input(\"Please Enter a correct word from above list:\")\n",
    "    if w in data:\n",
    "        return data[w]\n",
    "    else:\n",
    "        return \"Word doesn't exist, Please double check it.\"\n",
    "    \n",
    "\n",
    "word=input(\"Enter a word :\")\n",
    "print(tranlate(word))"
   ]
  },
  {
   "cell_type": "code",
   "execution_count": null,
   "metadata": {},
   "outputs": [],
   "source": [
    "import json\n",
    "\n",
    "data=json.load(open(\"data.json\"))\n",
    "\n",
    "def transalte(word):\n",
    "\tprint(word.lower())\n",
    "\tif wordin data:\n",
    "\t\treturn data[word]\n",
    "\telse:\n",
    "\t    return\"Word does not exist, Please double check!\"\t\n",
    "\n",
    "\t\n",
    "\n",
    "\n",
    "word= input(\"Enter a word: \")\n",
    "\n",
    "\n",
    "print(transalte(word))"
   ]
  },
  {
   "cell_type": "code",
   "execution_count": null,
   "metadata": {},
   "outputs": [],
   "source": [
    "import difflib"
   ]
  },
  {
   "cell_type": "code",
   "execution_count": null,
   "metadata": {},
   "outputs": [],
   "source": [
    "from difflib import SequenceMatcher"
   ]
  },
  {
   "cell_type": "code",
   "execution_count": null,
   "metadata": {},
   "outputs": [],
   "source": [
    "match=difflib.get_close_matches(word, data.keys(),n=5)\n",
    "match"
   ]
  },
  {
   "cell_type": "code",
   "execution_count": null,
   "metadata": {},
   "outputs": [],
   "source": [
    "import json\n",
    "import difflib\n",
    "\n",
    "data=json.load(open(\"data.json\"))\n",
    "\n",
    "def transalte(word):\n",
    "\tword=word.lower()\n",
    "   \n",
    "\tif word in data:\n",
    "\t\treturn data[word]\n",
    "\telse:\n",
    "\t    return\"Word does not exist, Please double check!\"\t\n",
    "\n",
    "\t\n",
    "\n",
    "\n",
    "word= input(\"Enter a word: \")\n",
    "\n",
    "\n",
    "print(transalte(word))"
   ]
  },
  {
   "cell_type": "code",
   "execution_count": null,
   "metadata": {},
   "outputs": [],
   "source": []
  }
 ],
 "metadata": {
  "kernelspec": {
   "display_name": "Python 3",
   "language": "python",
   "name": "python3"
  },
  "language_info": {
   "codemirror_mode": {
    "name": "ipython",
    "version": 3
   },
   "file_extension": ".py",
   "mimetype": "text/x-python",
   "name": "python",
   "nbconvert_exporter": "python",
   "pygments_lexer": "ipython3",
   "version": "3.8.3"
  }
 },
 "nbformat": 4,
 "nbformat_minor": 4
}
