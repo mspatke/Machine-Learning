{
 "cells": [
  {
   "cell_type": "code",
   "execution_count": null,
   "metadata": {},
   "outputs": [],
   "source": [
    "import json"
   ]
  },
  {
   "cell_type": "code",
   "execution_count": null,
   "metadata": {},
   "outputs": [],
   "source": [
    "json.load(open(\"data.json\"))"
   ]
  },
  {
   "cell_type": "code",
   "execution_count": 25,
   "metadata": {},
   "outputs": [
    {
     "name": "stdout",
     "output_type": "stream",
     "text": [
      "Enter a word :rain\n",
      "['rain', 'train', 'rainy']\n",
      "Please Enter a correct word from above list:train\n",
      "['A self-propelled, connected group of vehicles moving on rails.', 'To point or cause to go (blows, weapons, or objects such as photographic equipment) towards', 'To develop behaviour by instruction and practice.', 'A group of animals, vehicles, or people that follow one another in a line.', \"To do physical exercise to improve one's fitness.\", 'To exercise in order to prepare for an event or competition.', 'To teach by training.', 'To undergo training or instruction for a particular role, function, or profession.', 'To educate for a future role or function.', 'To act as a trainer or coach (to), as in sports.']\n"
     ]
    }
   ],
   "source": [
    "import json\n",
    "import difflib\n",
    "\n",
    "json.load(open(\"data.json\"))\n",
    "\n",
    "def tranlate(w):\n",
    "    w=w.lower()\n",
    "    match=difflib.get_close_matches(word, data.keys())\n",
    "    print(match)\n",
    "    w=input(\"Please Enter a correct word from above list:\")\n",
    "    if w in data:\n",
    "        return data[w]\n",
    "    else:\n",
    "        return \"Word doesn't exist, Please double check it.\"\n",
    "    \n",
    "\n",
    "word=input(\"Enter a word :\")\n",
    "print(tranlate(word))"
   ]
  },
  {
   "cell_type": "code",
   "execution_count": 1,
   "metadata": {},
   "outputs": [
    {
     "name": "stdout",
     "output_type": "stream",
     "text": [
      "Enter a word: rain\n",
      "['Precipitation in the form of liquid water drops with diameters greater than 0.5 millimetres.', 'To fall from the clouds in drops of water.']\n"
     ]
    }
   ],
   "source": [
    "import json\n",
    "\n",
    "data=json.load(open(\"data.json\"))\n",
    "\n",
    "def transalte(word):\n",
    "\tprint(word.lower())\n",
    "\tif wordin data:\n",
    "\t\treturn data[word]\n",
    "\telse:\n",
    "\t    return\"Word does not exist, Please double check!\"\t\n",
    "\n",
    "\t\n",
    "\n",
    "\n",
    "word= input(\"Enter a word: \")\n",
    "\n",
    "\n",
    "print(transalte(word))"
   ]
  },
  {
   "cell_type": "code",
   "execution_count": 3,
   "metadata": {},
   "outputs": [],
   "source": [
    "import difflib"
   ]
  },
  {
   "cell_type": "code",
   "execution_count": null,
   "metadata": {},
   "outputs": [],
   "source": [
    "from difflib import SequenceMatcher"
   ]
  },
  {
   "cell_type": "code",
   "execution_count": 24,
   "metadata": {},
   "outputs": [
    {
     "data": {
      "text/plain": [
       "['return', 'turn', 'return to', 'restaurant', 'rerun']"
      ]
     },
     "execution_count": 24,
     "metadata": {},
     "output_type": "execute_result"
    }
   ],
   "source": [
    "match=difflib.get_close_matches(word, data.keys(),n=5)\n",
    "match"
   ]
  },
  {
   "cell_type": "code",
   "execution_count": 14,
   "metadata": {},
   "outputs": [
    {
     "name": "stdout",
     "output_type": "stream",
     "text": [
      "Enter a word: rain\n",
      "['Precipitation in the form of liquid water drops with diameters greater than 0.5 millimetres.', 'To fall from the clouds in drops of water.']\n"
     ]
    }
   ],
   "source": [
    "import json\n",
    "import difflib\n",
    "\n",
    "data=json.load(open(\"data.json\"))\n",
    "\n",
    "def transalte(word):\n",
    "\tword=word.lower()\n",
    "   \n",
    "\tif word in data:\n",
    "\t\treturn data[word]\n",
    "\telse:\n",
    "\t    return\"Word does not exist, Please double check!\"\t\n",
    "\n",
    "\t\n",
    "\n",
    "\n",
    "word= input(\"Enter a word: \")\n",
    "\n",
    "\n",
    "print(transalte(word))"
   ]
  },
  {
   "cell_type": "code",
   "execution_count": null,
   "metadata": {},
   "outputs": [],
   "source": []
  }
 ],
 "metadata": {
  "kernelspec": {
   "display_name": "Python 3",
   "language": "python",
   "name": "python3"
  },
  "language_info": {
   "codemirror_mode": {
    "name": "ipython",
    "version": 3
   },
   "file_extension": ".py",
   "mimetype": "text/x-python",
   "name": "python",
   "nbconvert_exporter": "python",
   "pygments_lexer": "ipython3",
   "version": "3.8.3"
  }
 },
 "nbformat": 4,
 "nbformat_minor": 4
}
